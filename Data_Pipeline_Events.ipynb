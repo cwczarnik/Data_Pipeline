{
 "cells": [
  {
   "cell_type": "markdown",
   "metadata": {},
   "source": [
    "# Experimenting with data pipeline\n",
    "\n",
    "This notebook demonstrates a log of events from a website and a pipeline to extract, transform and load the data into an sqlite database and to process the information in two streams to count the number of unique ips accessing the site per day and minute as well as the unique browsers per day.\n",
    "\n",
    "Note to:\n",
    "- make sure to install faker (can be done through pip install faker)\n",
    "- Some parts may need to be simply exited out of using either a keyboard command or the stop button for jupyter notebook"
   ]
  },
  {
   "cell_type": "code",
   "execution_count": 83,
   "metadata": {
    "collapsed": true
   },
   "outputs": [],
   "source": [
    "from faker import Faker\n",
    "from datetime import datetime\n",
    "import random\n",
    "import time\n",
    "import sys\n",
    "import sqlite3\n",
    "from datetime import datetime"
   ]
  },
  {
   "cell_type": "code",
   "execution_count": 84,
   "metadata": {},
   "outputs": [],
   "source": [
    "DB_NAME = \"db.sqlite\"\n",
    "\n",
    "conn = sqlite3.connect(DB_NAME)\n",
    "\n",
    "conn.execute(\"\"\"drop table logs;\"\"\")\n",
    "conn.close()"
   ]
  },
  {
   "cell_type": "code",
   "execution_count": 85,
   "metadata": {},
   "outputs": [],
   "source": [
    "def create_table():\n",
    "    conn = sqlite3.connect(DB_NAME)\n",
    "\n",
    "    conn.execute(\"\"\"\n",
    "    CREATE TABLE IF NOT EXISTS logs (\n",
    "      raw_log TEXT NOT NULL UNIQUE,\n",
    "      remote_addr TEXT,\n",
    "      time_local TEXT,\n",
    "      request_type TEXT,\n",
    "      request_path TEXT,\n",
    "      status INTEGER,\n",
    "      body_bytes_sent INTEGER,\n",
    "      http_referer TEXT,\n",
    "      http_user_agent TEXT,\n",
    "      created DATETIME DEFAULT CURRENT_TIMESTAMP\n",
    "      )\n",
    "    \"\"\")\n",
    "    conn.close()\n",
    "\n",
    "def parse_line(line):\n",
    "    split_line = line.split(\" \")\n",
    "    if len(split_line) < 12:\n",
    "        return []\n",
    "    remote_addr = split_line[0]\n",
    "    time_local = split_line[3] + \" \" + split_line[4]\n",
    "    request_type = split_line[5]\n",
    "    request_path = split_line[6]\n",
    "    status = split_line[8]\n",
    "    body_bytes_sent = split_line[9]\n",
    "    http_referer = split_line[10]\n",
    "    http_user_agent = \" \".join(split_line[11:])\n",
    "    created = datetime.now().strftime(\"%Y-%m-%dT%H:%M:%S\")\n",
    "\n",
    "    return [\n",
    "        remote_addr,\n",
    "        time_local,\n",
    "        request_type,\n",
    "        request_path,\n",
    "        status,\n",
    "        body_bytes_sent,\n",
    "        http_referer,\n",
    "        http_user_agent,\n",
    "        created]\n",
    "\n",
    "def insert_record(line, parsed):\n",
    "    conn = sqlite3.connect(DB_NAME)\n",
    "    cur = conn.cursor()\n",
    "    args = [line] + parsed\n",
    "    cur.execute('INSERT INTO logs VALUES (?,?,?,?,?,?,?,?,?,?)', args)\n",
    "    conn.commit()\n",
    "    conn.close()\n",
    "\n",
    "def load_records(LOG_FILE,iterations):\n",
    "    create_table()        \n",
    "    try:\n",
    "        f = open(LOG_FILE, 'r')\n",
    "        i = 0 \n",
    "        while i <= iterations:\n",
    "            where_a = f.tell()\n",
    "            line_a = f.readline()\n",
    "            if not line_a:\n",
    "                time.sleep(1)\n",
    "                f.seek(where_a)\n",
    "                continue\n",
    "            else:\n",
    "                if line_a:\n",
    "                    line = line_a\n",
    "                line = line.strip()\n",
    "                parsed = parse_line(line)\n",
    "                if len(parsed) > 0:\n",
    "                    insert_record(line, parsed)\n",
    "            i+=1\n",
    "    except KeyboardInterrupt:\n",
    "        pass\n",
    "    except Exception as e:\n",
    "        print(e)\n",
    "    finally:\n",
    "        f.close()\n"
   ]
  },
  {
   "cell_type": "code",
   "execution_count": 86,
   "metadata": {
    "collapsed": true
   },
   "outputs": [],
   "source": [
    "# conn = sqlite3.connect(DB_NAME)\n",
    "# cur = conn.cursor()\n",
    "# cur.execute(\"\"\"select * from logs;\"\"\")\n",
    "# log = cur.fetchall()"
   ]
  },
  {
   "cell_type": "code",
   "execution_count": 87,
   "metadata": {
    "collapsed": true
   },
   "outputs": [],
   "source": [
    "def get_lines(time_obj):\n",
    "    conn = sqlite3.connect(DB_NAME)\n",
    "    cur = conn.cursor()\n",
    "    cur.execute(\"SELECT remote_addr,time_local FROM logs WHERE created > ?\", [time_obj])\n",
    "    resp = cur.fetchall()\n",
    "    return resp\n",
    "\n",
    "def get_time_and_ip(lines):\n",
    "    ips = []\n",
    "    times = []\n",
    "    for line in lines:\n",
    "        ips.append(line[0])\n",
    "        times.append(parse_time(line[1]))\n",
    "    return ips, times"
   ]
  },
  {
   "cell_type": "code",
   "execution_count": 88,
   "metadata": {
    "collapsed": true
   },
   "outputs": [],
   "source": [
    "def parse_time(time_str):\n",
    "    try:\n",
    "        time_obj = datetime.strptime(time_str, '[%d/%b/%Y:%H:%M:%S %z]')\n",
    "    except Exception:\n",
    "        time_obj = \"\"\n",
    "    return time_obj"
   ]
  },
  {
   "cell_type": "code",
   "execution_count": 89,
   "metadata": {
    "collapsed": true
   },
   "outputs": [],
   "source": [
    "def count_visitors():\n",
    "    unique_ips = {}\n",
    "    counts = {}\n",
    "    start_time = datetime(year=2017, month=10, day=30)\n",
    "    lines = get_lines(start_time)\n",
    "    ips, times = get_time_and_ip(lines)\n",
    "    if len(times) > 0:\n",
    "        start_time = times[-1]\n",
    "    for ip, time_obj in zip(ips, times):\n",
    "        day = time_obj.strftime(\"%Y-%m-%d-%H-%M\")\n",
    "        if day not in unique_ips:\n",
    "            unique_ips[day] = set()\n",
    "        unique_ips[day].add(ip)\n",
    "\n",
    "    for k, v in unique_ips.items():\n",
    "        counts[k] = len(v)\n",
    "\n",
    "    count_list = counts.items()\n",
    "    count_list = sorted(count_list, key=lambda x: x[0])\n",
    "    return(count_list)"
   ]
  },
  {
   "cell_type": "code",
   "execution_count": 90,
   "metadata": {
    "collapsed": true
   },
   "outputs": [],
   "source": [
    "load_records('log_a.txt',100)"
   ]
  },
  {
   "cell_type": "code",
   "execution_count": 91,
   "metadata": {},
   "outputs": [
    {
     "name": "stdout",
     "output_type": "stream",
     "text": [
      "[('2017-10-30-18-30', 9), ('2017-10-30-18-31', 22), ('2017-10-30-18-32', 26), ('2017-10-30-18-33', 20), ('2017-10-30-18-34', 9)]\n"
     ]
    }
   ],
   "source": [
    "cv = count_visitors()\n",
    "print(cv)"
   ]
  },
  {
   "cell_type": "markdown",
   "metadata": {},
   "source": [
    "## Counting unique browsers per day"
   ]
  },
  {
   "cell_type": "code",
   "execution_count": 92,
   "metadata": {
    "collapsed": true
   },
   "outputs": [],
   "source": [
    "def get_lines_browser_agent(time_obj):\n",
    "    conn = sqlite3.connect(DB_NAME)\n",
    "    cur = conn.cursor()\n",
    "    cur.execute(\"SELECT time_local,http_user_agent FROM logs WHERE created > ?\", [time_obj])\n",
    "    resp = cur.fetchall()\n",
    "    return resp"
   ]
  },
  {
   "cell_type": "code",
   "execution_count": 93,
   "metadata": {
    "collapsed": true
   },
   "outputs": [],
   "source": [
    "def parse_user_agent(user_agent):\n",
    "    browsers = [\"Firefox\", \"Chrome\", \"Opera\", \"Safari\", \"MSIE\"]\n",
    "    for browser in browsers:\n",
    "        if browser in user_agent:\n",
    "            return browser\n",
    "    return \"Other\"\n",
    "\n",
    "def get_time_and_browser(lines):\n",
    "    browsers = []\n",
    "    times = []\n",
    "    for line in lines:\n",
    "        times.append(parse_time(line[0]))\n",
    "        browsers.append(parse_user_agent(line[1]))\n",
    "    return browsers, times"
   ]
  },
  {
   "cell_type": "code",
   "execution_count": 94,
   "metadata": {},
   "outputs": [],
   "source": [
    "def browser_counts():\n",
    "    browser_counts = {}\n",
    "    start_time = datetime(year=2017, month=3, day=9)\n",
    "    lines = get_lines_browser_agent(start_time)\n",
    "    \n",
    "    browsers, times = get_time_and_browser(lines)\n",
    "    if len(times) > 0:\n",
    "        start_time = times[-1]\n",
    "    for browser, time_obj in zip(browsers, times):\n",
    "        if browser not in browser_counts:\n",
    "            browser_counts[browser] = 0\n",
    "        browser_counts[browser] += 1\n",
    "\n",
    "    count_list = browser_counts.items()\n",
    "    count_list = sorted(count_list, key=lambda x: x[0])\n",
    "    return(count_list)"
   ]
  },
  {
   "cell_type": "code",
   "execution_count": 95,
   "metadata": {},
   "outputs": [
    {
     "data": {
      "text/plain": [
       "[('Chrome', 19), ('Firefox', 18), ('MSIE', 12), ('Opera', 24), ('Safari', 13)]"
      ]
     },
     "execution_count": 95,
     "metadata": {},
     "output_type": "execute_result"
    }
   ],
   "source": [
    "browser_counts()"
   ]
  },
  {
   "cell_type": "markdown",
   "metadata": {},
   "source": [
    "## Querying the database to get back the log as an array"
   ]
  },
  {
   "cell_type": "code",
   "execution_count": 96,
   "metadata": {},
   "outputs": [],
   "source": [
    "conn = sqlite3.connect(DB_NAME)\n",
    "cur = conn.cursor()\n",
    "cur.execute(\"\"\"select * from logs;\"\"\")\n",
    "log = cur.fetchall()"
   ]
  },
  {
   "cell_type": "code",
   "execution_count": null,
   "metadata": {
    "collapsed": true
   },
   "outputs": [],
   "source": []
  },
  {
   "cell_type": "code",
   "execution_count": null,
   "metadata": {
    "collapsed": true
   },
   "outputs": [],
   "source": []
  }
 ],
 "metadata": {
  "kernelspec": {
   "display_name": "Python 3",
   "language": "python",
   "name": "python3"
  },
  "language_info": {
   "codemirror_mode": {
    "name": "ipython",
    "version": 3
   },
   "file_extension": ".py",
   "mimetype": "text/x-python",
   "name": "python",
   "nbconvert_exporter": "python",
   "pygments_lexer": "ipython3",
   "version": "3.6.2"
  }
 },
 "nbformat": 4,
 "nbformat_minor": 2
}
